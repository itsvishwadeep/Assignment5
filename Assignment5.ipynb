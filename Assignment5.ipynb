{
 "cells": [
  {
   "cell_type": "markdown",
   "id": "8180f93b-1381-4826-8349-24641a17eaad",
   "metadata": {},
   "source": [
    "### Problem-1: Write a Python function that takes a list and returns a new list with unique elements of the first list."
   ]
  },
  {
   "cell_type": "code",
   "execution_count": 1,
   "id": "73df2f86-6766-4c52-8ad1-b98111bcb8c1",
   "metadata": {},
   "outputs": [
    {
     "name": "stdout",
     "output_type": "stream",
     "text": [
      "[1, 2, 4, 3, 6]\n"
     ]
    }
   ],
   "source": [
    "def uniquefy_list(input_list):\n",
    "    \"\"\"This function takes a list as input and returns a list containing only unique elements from the input list.\"\"\"\n",
    "    output_list = []\n",
    "    for element in input_list:\n",
    "        in_both_lists = False\n",
    "        for existing_element in output_list:\n",
    "            if element == existing_element:\n",
    "                in_both_lists = True\n",
    "                break\n",
    "        if not in_both_lists:\n",
    "            output_list.append(element)\n",
    "    return output_list\n",
    "\n",
    "# Example usage\n",
    "my_list = [1, 2, 2, 4, 3, 6]\n",
    "unique_elements = uniquefy_list(my_list)\n",
    "print(unique_elements)\n"
   ]
  },
  {
   "cell_type": "markdown",
   "id": "166c6b6f-df85-4a15-877b-016b534087cd",
   "metadata": {},
   "source": [
    "### Problem-2: Write a Python function that accepts a hyphen-separated sequence of words as parameter and returns the words in a hyphen-separated sequence after sorting them alphabetically."
   ]
  },
  {
   "cell_type": "code",
   "execution_count": null,
   "id": "f75b95e4-1af3-4921-9df7-6fe3d0d38706",
   "metadata": {},
   "outputs": [],
   "source": []
  },
  {
   "cell_type": "code",
   "execution_count": null,
   "id": "57b1224a-2172-4206-9253-e15b141da0db",
   "metadata": {},
   "outputs": [],
   "source": []
  },
  {
   "cell_type": "code",
   "execution_count": null,
   "id": "84995ded-1ab5-43df-8c3b-d2436238f043",
   "metadata": {},
   "outputs": [],
   "source": []
  },
  {
   "cell_type": "code",
   "execution_count": null,
   "id": "49c3fc76-4165-4263-bf39-a9bfc7e59311",
   "metadata": {},
   "outputs": [],
   "source": []
  },
  {
   "cell_type": "code",
   "execution_count": null,
   "id": "921049a9-302e-4b31-aeed-c38497b0a77c",
   "metadata": {},
   "outputs": [],
   "source": []
  },
  {
   "cell_type": "code",
   "execution_count": null,
   "id": "aefc9bb0-f1bb-4830-afc6-e9bf82cab681",
   "metadata": {},
   "outputs": [],
   "source": []
  },
  {
   "cell_type": "code",
   "execution_count": null,
   "id": "8e95382d-5f41-4da1-bd65-12e15c01e1eb",
   "metadata": {},
   "outputs": [],
   "source": [
    "def sort_words(input_str):\n",
    "    words = input_str.split('-')\n",
    "    words.sort()\n",
    "    return '-'.join(words)\n",
    "\n",
    "# Example usage\n",
    "user_input = input(\"Enter a hyphen-separated sequence of words: \")\n",
    "sorted_sequence = sort_words(user_input)\n",
    "print(\"Sorted sequence:\", sorted_sequence)\n"
   ]
  },
  {
   "cell_type": "markdown",
   "id": "c32eb9d8-db69-43fe-a607-29bfbb10f90f",
   "metadata": {},
   "source": [
    "### Problem 3: Write a Python function that accepts a string and calculate the number of upper case letters and lower case letters."
   ]
  },
  {
   "cell_type": "code",
   "execution_count": 3,
   "id": "4eada431-22d2-4f0f-850a-febba1d995d5",
   "metadata": {},
   "outputs": [
    {
     "name": "stdout",
     "output_type": "stream",
     "text": [
      "Upper-case letters: 2\n",
      "Lower-case letters: 8\n"
     ]
    }
   ],
   "source": [
    "def count_chars(string):\n",
    "    upper_count = 0\n",
    "    lower_count = 0\n",
    "    for char in string:\n",
    "        if char.isupper():\n",
    "            upper_count += 1\n",
    "        elif char.islower():\n",
    "            lower_count += 1\n",
    "    return upper_count, lower_count\n",
    "\n",
    "# Example usage\n",
    "input_string = \"Hello World! 123\"\n",
    "upper, lower = count_chars(input_string)\n",
    "print(\"Upper-case letters:\", upper)\n",
    "print(\"Lower-case letters:\", lower)\n"
   ]
  },
  {
   "cell_type": "markdown",
   "id": "f4bb2709-8f20-48cc-88a3-3db2dba0af80",
   "metadata": {},
   "source": [
    "### Problem 4: Write a Python program to print the even numbers from a given list."
   ]
  },
  {
   "cell_type": "code",
   "execution_count": 4,
   "id": "61dfea94-ed56-4d37-98ad-b92e058aa113",
   "metadata": {},
   "outputs": [
    {
     "name": "stdout",
     "output_type": "stream",
     "text": [
      "2 64 14 "
     ]
    }
   ],
   "source": [
    "def print_even_numbers(lst):\n",
    "    for num in lst:\n",
    "        if num % 2 == 0:\n",
    "            print(num, end=\" \")\n",
    "\n",
    "my_list = [2, 7, 5, 64, 14]\n",
    "print_even_numbers(my_list)\n"
   ]
  },
  {
   "cell_type": "markdown",
   "id": "053396be-0da2-408f-aa56-2b22287fe1b3",
   "metadata": {},
   "source": [
    "### Problem 5: Write a Python function to check whether a number is perfect or not.\n",
    "A Perfect number is a number that is half the sum of all of its positive divisors (including itself)."
   ]
  },
  {
   "cell_type": "markdown",
   "id": "1e256918-f8f2-4e2e-84bf-41ab7f92f197",
   "metadata": {},
   "source": [
    "###### def is_perfect(number):\n",
    "    # Initialize the sum of divisors\n",
    "    divisor_sum = 0\n",
    "\n",
    "    # Iterate through all possible divisors\n",
    "    for i in range(1, number):\n",
    "        if number % i == 0:\n",
    "            divisor_sum += i\n",
    "\n",
    "    # Check if the sum of divisors equals the original number\n",
    "    return divisor_sum == number\n",
    "\n",
    "# Example usage\n",
    "num = int(input(\"Enter a positive integer: \"))\n",
    "if is_perfect(num):\n",
    "    print(f\"{num} is a perfect number.\")\n",
    "else:\n",
    "    print(f\"{num} is not a perfect number.\")\n"
   ]
  },
  {
   "cell_type": "markdown",
   "id": "1297a7d2-fab6-4dfa-9aa9-4c47135a62d2",
   "metadata": {},
   "source": [
    "### Problem-6: Write a Python function to concatenate any no of dictionaries to create a new one."
   ]
  },
  {
   "cell_type": "code",
   "execution_count": 5,
   "id": "bc1792e8-99b2-4614-8bca-f8af8ca1b469",
   "metadata": {},
   "outputs": [
    {
     "name": "stdout",
     "output_type": "stream",
     "text": [
      "{'a': 1, 'b': 2, 'c': 3, 'd': 4, 'e': 5, 'f': 6}\n"
     ]
    }
   ],
   "source": [
    "def concatenate_dictionaries(*dicts):\n",
    "    result = {}\n",
    "    for d in dicts:\n",
    "        result.update(d)\n",
    "    return result\n",
    "\n",
    "# Example usage\n",
    "d1 = {'a': 1, 'b': 2}\n",
    "d2 = {'c': 3, 'd': 4}\n",
    "d3 = {'e': 5, 'f': 6}\n",
    "\n",
    "concatenated_dict = concatenate_dictionaries(d1, d2, d3)\n",
    "print(concatenated_dict)\n"
   ]
  },
  {
   "cell_type": "markdown",
   "id": "86501e59-a644-4e15-a718-d5b26c4be413",
   "metadata": {},
   "source": [
    "### Problem-7 Write a python function that accepts a string as input and returns the word with most occurence."
   ]
  },
  {
   "cell_type": "code",
   "execution_count": 6,
   "id": "3197e769-c75d-434b-a60b-be38d9930ea9",
   "metadata": {},
   "outputs": [
    {
     "name": "stdin",
     "output_type": "stream",
     "text": [
      "Enter a string:  lost\n"
     ]
    },
    {
     "name": "stdout",
     "output_type": "stream",
     "text": [
      "Word(s) with the highest occurrence: ['lost']\n"
     ]
    }
   ],
   "source": [
    "def most_frequent_word(input_string):\n",
    "    # Split the input string into words\n",
    "    words = input_string.split()\n",
    "\n",
    "    # Create a dictionary to store word frequencies\n",
    "    word_counts = {}\n",
    "    for word in words:\n",
    "        word_counts[word] = word_counts.get(word, 0) + 1\n",
    "\n",
    "    # Find the word(s) with the highest frequency\n",
    "    max_count = max(word_counts.values())\n",
    "    most_frequent_words = [word for word, count in word_counts.items() if count == max_count]\n",
    "\n",
    "    return most_frequent_words\n",
    "\n",
    "# Example usage\n",
    "user_input = input(\"Enter a string: \")\n",
    "result = most_frequent_word(user_input)\n",
    "print(\"Word(s) with the highest occurrence:\", result)\n"
   ]
  },
  {
   "cell_type": "markdown",
   "id": "205f3579-336d-4be4-8c59-03219163d850",
   "metadata": {},
   "source": [
    "### Problem-8 Write a python function that receives a list of integers and prints out a histogram of bin size 10"
   ]
  },
  {
   "cell_type": "code",
   "execution_count": 7,
   "id": "c8dcef6b-a4af-42fa-a871-988e327ce213",
   "metadata": {},
   "outputs": [
    {
     "name": "stdout",
     "output_type": "stream",
     "text": [
      "Histogram:\n",
      "5-14: **\n",
      "15-24: *\n",
      "25-34: **\n",
      "35-44: **\n",
      "45-54: **\n",
      "55-64: **\n",
      "65-74: **\n",
      "75-84: **\n",
      "85-94: \n"
     ]
    }
   ],
   "source": [
    "def create_histogram(data):\n",
    "    # Calculate the frequency of each value\n",
    "    frequency = {}\n",
    "    for value in data:\n",
    "        frequency[value] = frequency.get(value, 0) + 1\n",
    "\n",
    "    # Create bins of size 10\n",
    "    bins = range(min(data), max(data) + 11, 10)\n",
    "\n",
    "    # Display the histogram\n",
    "    print(\"Histogram:\")\n",
    "    for start in bins:\n",
    "        end = start + 9\n",
    "        count = sum(frequency.get(value, 0) for value in range(start, end + 1))\n",
    "        print(f\"{start}-{end}: {'*' * count}\")\n",
    "\n",
    "# Example usage\n",
    "my_data = [5, 12, 18, 25, 30, 35, 40, 45, 50, 55, 60, 65, 70, 75, 80]\n",
    "create_histogram(my_data)\n"
   ]
  },
  {
   "cell_type": "markdown",
   "id": "3f678e84-8ac1-449b-af55-503faa70004a",
   "metadata": {},
   "source": [
    "### Problem-9 Write a python function that accepts a list of 2D co-ordinates and a query point, and then finds the the co-ordinate which is closest in terms of distance from the query point."
   ]
  },
  {
   "cell_type": "code",
   "execution_count": 8,
   "id": "96d93d1c-6e44-405c-a583-cdc39f5ba7be",
   "metadata": {},
   "outputs": [
    {
     "name": "stdout",
     "output_type": "stream",
     "text": [
      "The closest coordinate to (0, 238) is (20, 63).\n"
     ]
    }
   ],
   "source": [
    "import math\n",
    "\n",
    "def find_closest_coordinate(coordinates, query_point):\n",
    "    min_distance = float('inf')\n",
    "    closest_coordinate = None\n",
    "\n",
    "    for coord in coordinates:\n",
    "        distance = math.sqrt((coord[0] - query_point[0]) ** 2 + (coord[1] - query_point[1]) ** 2)\n",
    "        if distance < min_distance:\n",
    "            min_distance = distance\n",
    "            closest_coordinate = coord\n",
    "\n",
    "    return closest_coordinate\n",
    "\n",
    "# Example usage\n",
    "coordinates_list = [(26, 63), (25, 63), (24, 63), (23, 63), (22, 63), (21, 63), (20, 63), (22, 62), (27, 63)]\n",
    "query_point = (0, 238)\n",
    "\n",
    "closest_coord = find_closest_coordinate(coordinates_list, query_point)\n",
    "print(f\"The closest coordinate to {query_point} is {closest_coord}.\")\n"
   ]
  },
  {
   "cell_type": "markdown",
   "id": "abc4e79c-4186-4e0a-b767-d73d808d3adf",
   "metadata": {},
   "source": [
    "### Problem-10:Write a python program that receives a list of strings and performs bag of word operation on those strings"
   ]
  },
  {
   "cell_type": "code",
   "execution_count": 9,
   "id": "ee8cf1b5-157a-4c0b-8e47-c09422e18aba",
   "metadata": {},
   "outputs": [
    {
     "name": "stdout",
     "output_type": "stream",
     "text": [
      "Bag of Words matrix:\n",
      "[[0 0 0 1 2 1 2 1 1 1]\n",
      " [1 1 1 1 1 0 0 1 0 1]]\n",
      "\n",
      "Vocabulary (feature names):\n",
      "['also' 'football' 'games' 'john' 'likes' 'mary' 'movies' 'to' 'too'\n",
      " 'watch']\n"
     ]
    }
   ],
   "source": [
    "from sklearn.feature_extraction.text import CountVectorizer\n",
    "\n",
    "def bag_of_words(strings_list):\n",
    "    # Initialize the CountVectorizer\n",
    "    vectorizer = CountVectorizer()\n",
    "\n",
    "    # Fit and transform the strings to create the BoW representation\n",
    "    bow_matrix = vectorizer.fit_transform(strings_list)\n",
    "\n",
    "    # Get the feature names (vocabulary)\n",
    "    feature_names = vectorizer.get_feature_names_out()\n",
    "\n",
    "    return bow_matrix, feature_names\n",
    "\n",
    "# Example usage\n",
    "strings = [\n",
    "    \"John likes to watch movies. Mary likes movies too.\",\n",
    "    \"John also likes to watch football games.\"\n",
    "]\n",
    "\n",
    "bow_matrix, vocabulary = bag_of_words(strings)\n",
    "\n",
    "print(\"Bag of Words matrix:\")\n",
    "print(bow_matrix.toarray())\n",
    "print(\"\\nVocabulary (feature names):\")\n",
    "print(vocabulary)\n"
   ]
  },
  {
   "cell_type": "markdown",
   "id": "74311455-9ac8-448d-b8c7-10b1a9c62fb9",
   "metadata": {},
   "source": [
    "### Problem 11: Write a Python program to add three given lists using Python map and lambda.\n"
   ]
  },
  {
   "cell_type": "code",
   "execution_count": 10,
   "id": "a5ab1c8a-e531-41dd-ab07-352d9f3fb88b",
   "metadata": {},
   "outputs": [
    {
     "name": "stdout",
     "output_type": "stream",
     "text": [
      "Sum of corresponding elements: [12, 15, 18]\n"
     ]
    }
   ],
   "source": [
    "def add_lists(nums1, nums2, nums3):\n",
    "    # Use map and lambda to add corresponding elements from the three lists\n",
    "    result = map(lambda x, y, z: x + y + z, nums1, nums2, nums3)\n",
    "    return list(result)\n",
    "\n",
    "# Example usage\n",
    "nums1 = [1, 2, 3]\n",
    "nums2 = [4, 5, 6]\n",
    "nums3 = [7, 8, 9]\n",
    "\n",
    "sum_list = add_lists(nums1, nums2, nums3)\n",
    "print(\"Sum of corresponding elements:\", sum_list)\n"
   ]
  },
  {
   "cell_type": "markdown",
   "id": "b2696299-2e73-41ca-b28c-9dd0e753a15e",
   "metadata": {},
   "source": [
    "### Problem-12:Write a Python program to create a list containing the power of said number in bases raised to the corresponding number in the index using Python map."
   ]
  },
  {
   "cell_type": "code",
   "execution_count": 11,
   "id": "465939a2-61c5-4538-b450-0ad0673a207b",
   "metadata": {},
   "outputs": [
    {
     "name": "stdout",
     "output_type": "stream",
     "text": [
      "Base numbers and index:\n",
      "[10, 20, 30, 40, 50, 60, 70, 80, 90, 100]\n",
      "[1, 2, 3, 4, 5, 6, 7, 8, 9, 10]\n",
      "\n",
      "Power of said number in bases raised to the corresponding number in the index:\n",
      "[10, 400, 27000, 2560000, 312500000, 46656000000, 8235430000000, 1677721600000000, 387420489000000000, 100000000000000000000]\n"
     ]
    }
   ],
   "source": [
    "# Create two lists named 'bases_num' and 'index' containing integer elements\n",
    "bases_num = [10, 20, 30, 40, 50, 60, 70, 80, 90, 100]\n",
    "index = [1, 2, 3, 4, 5, 6, 7, 8, 9, 10]\n",
    "\n",
    "# Print the original lists of base numbers and indices\n",
    "print(\"Base numbers and index:\")\n",
    "print(bases_num)\n",
    "print(index)\n",
    "\n",
    "# Print a message indicating the operation to be performed\n",
    "print(\"\\nPower of said number in bases raised to the corresponding number in the index:\")\n",
    "\n",
    "# Use the map function to apply the pow function to pairs of corresponding elements\n",
    "# from 'bases_num' and 'index' and create a new list of results\n",
    "result = list(map(pow, bases_num, index))\n",
    "\n",
    "# Print the result of the map operation as a list\n",
    "print(result)\n"
   ]
  },
  {
   "cell_type": "markdown",
   "id": "c86d2ae7-545c-49be-9e53-219e478ed7d0",
   "metadata": {},
   "source": [
    "### Problem-13 Using filter() and list() functions and .lower() method filter all the vowels in a given string."
   ]
  },
  {
   "cell_type": "code",
   "execution_count": 12,
   "id": "180cec17-9aab-45ab-8b71-aa4b1ffe5957",
   "metadata": {},
   "outputs": [
    {
     "name": "stdout",
     "output_type": "stream",
     "text": [
      "['i', 'e', 'O', 'i', 'i', 'i', 'a', 'e', 'a', 'e', 'i', 'e', 'i', 'i', 'i', 'a']\n"
     ]
    }
   ],
   "source": [
    "# Given input string\n",
    "str1 = \"Winter Olympics in 2022 will take place in Beijing China\"\n",
    "\n",
    "# Define a function to check if a character is a vowel\n",
    "def is_vowel(char):\n",
    "    return char.lower() in \"aeiou\"\n",
    "\n",
    "# Use the filter() function to filter out vowels from the string\n",
    "filtered_vowels = list(filter(is_vowel, str1))\n",
    "\n",
    "# Print the filtered vowels\n",
    "print(filtered_vowels)\n"
   ]
  },
  {
   "cell_type": "markdown",
   "id": "9ac1127e-36a1-4ced-aa5c-2dcc3b2239fd",
   "metadata": {},
   "source": [
    "### Problem-14: Use reduce to convert a 2D list to 1D"
   ]
  },
  {
   "cell_type": "code",
   "execution_count": 13,
   "id": "64b9bfc8-28d1-4c0c-890c-08e1c5dcb675",
   "metadata": {},
   "outputs": [
    {
     "name": "stdout",
     "output_type": "stream",
     "text": [
      "Flattened list: [1, 2, 3, 3, 6, 7, 7, 5, 4]\n"
     ]
    }
   ],
   "source": [
    "from functools import reduce\n",
    "\n",
    "# Given a 2D list\n",
    "ini_list = [[1, 2, 3], [3, 6, 7], [7, 5, 4]]\n",
    "\n",
    "# Flatten the list using reduce\n",
    "flatten_list = reduce(lambda x, y: x + y, ini_list)\n",
    "\n",
    "# Print the flattened result\n",
    "print(\"Flattened list:\", flatten_list)\n"
   ]
  },
  {
   "cell_type": "markdown",
   "id": "9f22ebd1-75cd-4eaa-8a62-2596ee70af66",
   "metadata": {},
   "source": [
    "### Problem 15- A dictionary contains following information about 5 employees:"
   ]
  },
  {
   "cell_type": "code",
   "execution_count": 15,
   "id": "a0c153e0-dd6b-4106-b013-f1b1c7685702",
   "metadata": {},
   "outputs": [
    {
     "name": "stdout",
     "output_type": "stream",
     "text": [
      "Highly skilled employees:\n",
      "Neha Singh\n",
      "Abhinav Sharma\n"
     ]
    }
   ],
   "source": [
    "# Given dictionary of employees\n",
    "employees = [\n",
    "    {\n",
    "        'fname':'Nitish',\n",
    "        'lname':'Singh',\n",
    "        'age' : 33,\n",
    "        'grade':'skilled'\n",
    "    },\n",
    "    {\n",
    "        'fname':'Ankit',\n",
    "        'lname':'Verma',\n",
    "        'age' : 34,\n",
    "        'grade':'semi-skilled'\n",
    "    },\n",
    "    {\n",
    "        'fname':'Neha',\n",
    "        'lname':'Singh',\n",
    "        'age' : 35,\n",
    "        'grade':'highly-skilled'\n",
    "    },\n",
    "    {\n",
    "        'fname':'Anurag',\n",
    "        'lname':'Kumar',\n",
    "        'age' : 30,\n",
    "        'grade':'skilled'\n",
    "    },\n",
    "    {\n",
    "        'fname':'Abhinav',\n",
    "        'lname':'Sharma',\n",
    "        'age' : 37,\n",
    "        'grade':'highly-skilled'\n",
    "    }\n",
    "    \n",
    "]\n",
    "\n",
    "# Filter employees with \"Highly skilled\" grade\n",
    "highly_skilled_employees = list(filter(lambda emp: emp[\"grade\"] == \"highly-skilled\", employees))\n",
    "\n",
    "# Extract first name and last name for each highly skilled employee\n",
    "employee_names = list(map(lambda emp: f\"{emp['fname']} {emp['lname']}\", highly_skilled_employees))\n",
    "\n",
    "# Print the list of highly skilled employees\n",
    "print(\"Highly skilled employees:\")\n",
    "for name in employee_names:\n",
    "    print(name)\n"
   ]
  },
  {
   "cell_type": "code",
   "execution_count": null,
   "id": "a79068ab-0b47-44d3-802a-c413c81aa3e5",
   "metadata": {},
   "outputs": [],
   "source": []
  }
 ],
 "metadata": {
  "kernelspec": {
   "display_name": "Python 3 (ipykernel)",
   "language": "python",
   "name": "python3"
  },
  "language_info": {
   "codemirror_mode": {
    "name": "ipython",
    "version": 3
   },
   "file_extension": ".py",
   "mimetype": "text/x-python",
   "name": "python",
   "nbconvert_exporter": "python",
   "pygments_lexer": "ipython3",
   "version": "3.12.4"
  }
 },
 "nbformat": 4,
 "nbformat_minor": 5
}
